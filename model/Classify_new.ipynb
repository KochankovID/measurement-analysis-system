{
 "cells": [
  {
   "cell_type": "code",
   "execution_count": 1,
   "id": "5fb2af8b-255a-441e-814d-b38b4f527561",
   "metadata": {},
   "outputs": [],
   "source": [
    "import numpy as np\n",
    "import pandas as pd\n",
    "\n",
    "from sklearn.preprocessing import OrdinalEncoder\n",
    "\n",
    "from sklearn.ensemble import RandomForestClassifier\n",
    "from collections import Counter\n",
    "from nltk.stem.snowball import SnowballStemmer\n",
    "import re\n",
    "import pickle"
   ]
  },
  {
   "cell_type": "code",
   "execution_count": 23,
   "id": "723eaaf8-2f6e-488c-b067-a53236da86a6",
   "metadata": {},
   "outputs": [
    {
     "data": {
      "text/plain": [
       "'весы автомобильные и вагонные'"
      ]
     },
     "execution_count": 23,
     "metadata": {},
     "output_type": "execute_result"
    }
   ],
   "source": [
    "def clean_comment(text, vocab):\n",
    "    regex = re.compile('[^а-яА-Я]')\n",
    "    stemmer = SnowballStemmer(\"russian\")\n",
    "    text = [stemmer.stem(i) for i in regex.sub(' ', text.lower()).split()]\n",
    "    check_vocab = lambda x: x if x in vocab else '[UNK]'\n",
    "    text = ' '.join(list(map(check_vocab, text)))\n",
    "    return text\n",
    "\n",
    "def save_model(model, filename):\n",
    "    pickle.dump(model, open(filename, 'wb'))\n",
    "    \n",
    "def load_model(filename):\n",
    "    return pickle.load(open(filename, 'rb'))\n",
    "\n",
    "def predict(text):\n",
    "    vocab = pickle.load(open('for_model/vocab', 'rb'))\n",
    "    vectorizer = pickle.load(open('for_model/vectorizer', 'rb'))\n",
    "    clf = pickle.load(open('for_model/clf', 'rb'))\n",
    "    enc = pickle.load(open('for_model/enc', 'rb'))\n",
    "    \n",
    "    text = clean_comment(text, vocab)\n",
    "    text = vectorizer.transform([text]).toarray()\n",
    "\n",
    "    return enc.inverse_transform(clf.predict(text)[:, np.newaxis])[0, 0]\n",
    "\n",
    "text = \"\"\"Весы хуевые предназначены для измерения массы хуев.\"\"\"\n",
    "predict(text)"
   ]
  }
 ],
 "metadata": {
  "kernelspec": {
   "display_name": "Python 3 (ipykernel)",
   "language": "python",
   "name": "python3"
  },
  "language_info": {
   "codemirror_mode": {
    "name": "ipython",
    "version": 3
   },
   "file_extension": ".py",
   "mimetype": "text/x-python",
   "name": "python",
   "nbconvert_exporter": "python",
   "pygments_lexer": "ipython3",
   "version": "3.8.13"
  }
 },
 "nbformat": 4,
 "nbformat_minor": 5
}
